{
 "cells": [
  {
   "cell_type": "markdown",
   "metadata": {},
   "source": [
    "# Setup"
   ]
  },
  {
   "cell_type": "code",
   "execution_count": null,
   "metadata": {},
   "outputs": [],
   "source": [
    "import os\n",
    "HOME = os.getcwd()\n",
    "print(HOME)"
   ]
  },
  {
   "cell_type": "code",
   "execution_count": null,
   "metadata": {},
   "outputs": [],
   "source": [
    "#%pip install \"ultralytics<=8.3.40\" supervision roboflow\n",
    "import ultralytics\n",
    "ultralytics.checks()"
   ]
  },
  {
   "cell_type": "markdown",
   "metadata": {},
   "source": [
    "## Dataset"
   ]
  },
  {
   "cell_type": "code",
   "execution_count": null,
   "metadata": {},
   "outputs": [],
   "source": [
    "!mkdir {HOME}/datasets\n",
    "%cd {HOME}/datasets\n",
    "\n",
    "\n",
    "from roboflow import Roboflow\n",
    "rf = Roboflow(api_key=\"UmrhwHmxixp7hrYrUSIB\")\n",
    "project = rf.workspace(\"agroia\").project(\"dataset-v1-s3fwi\")\n",
    "version = project.version(8)\n",
    "dataset = version.download(\"yolov11\")\n",
    "                "
   ]
  },
  {
   "cell_type": "markdown",
   "metadata": {},
   "source": [
    "# Train"
   ]
  },
  {
   "cell_type": "code",
   "execution_count": null,
   "metadata": {},
   "outputs": [],
   "source": [
    "%cd {HOME}\n",
    "\n",
    "!yolo task=segment mode=train model=yolo11s-seg.pt data=/home/nuvenpreto01/Documentos/train/yolo-11-seg/datasets/DATASET-V1-8/data.yaml epochs=40 imgsz=640 batch=4 lr0=0.001 amp=False"
   ]
  },
  {
   "cell_type": "markdown",
   "metadata": {},
   "source": [
    "# Load YOLO"
   ]
  },
  {
   "cell_type": "code",
   "execution_count": null,
   "metadata": {},
   "outputs": [],
   "source": [
    "from ultralytics import YOLO\n",
    "from PIL import Image\n",
    "import supervision as sv\n",
    "\n",
    "model = YOLO(f'{HOME}/runs/segment/train/weights/best.pt')\n",
    "image = Image.open(\"/content/datasets/Pelvis-AP-X-ray-3/test/images/45_jpg.rf.ce678a6abea6d14974aa610f0cd8c74a.jpg\")\n",
    "result = model.predict(image, conf=0.25)[0]\n",
    "detections = sv.Detections.from_ultralytics(result)"
   ]
  },
  {
   "cell_type": "code",
   "execution_count": null,
   "metadata": {},
   "outputs": [],
   "source": [
    "# Rename classes\n",
    "name_dictionary = {\n",
    "    \"SUORCIL\": \"SOURCIL\",\n",
    "    \"SAKRO-ILIAK-EKLEM\": \"SACROILIAC-JOINT\",\n",
    "    \"ILIAK\": \"ILIUM\"\n",
    "}\n",
    "detections.data[\"class_name\"] = [name_dictionary.get(class_name, class_name) for class_name in detections.data[\"class_name\"]]"
   ]
  },
  {
   "cell_type": "code",
   "execution_count": null,
   "metadata": {},
   "outputs": [],
   "source": [
    "mask_annotator = sv.MaskAnnotator()\n",
    "label_annotator = sv.LabelAnnotator(text_color=sv.Color.BLACK, text_position=sv.Position.CENTER)\n",
    "\n",
    "annotated_image = image.copy()\n",
    "mask_annotator.annotate(annotated_image, detections=detections)\n",
    "label_annotator.annotate(annotated_image, detections=detections)\n",
    "\n",
    "sv.plot_image(annotated_image, size=(10, 10))"
   ]
  }
 ],
 "metadata": {
  "language_info": {
   "name": "python"
  }
 },
 "nbformat": 4,
 "nbformat_minor": 2
}
