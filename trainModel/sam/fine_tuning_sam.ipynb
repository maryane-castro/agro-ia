{
 "cells": [
  {
   "cell_type": "markdown",
   "metadata": {},
   "source": [
    "# Setup"
   ]
  },
  {
   "cell_type": "markdown",
   "metadata": {},
   "source": [
    "## Dataset"
   ]
  },
  {
   "cell_type": "code",
   "execution_count": null,
   "metadata": {},
   "outputs": [],
   "source": [
    "#!pip install roboflow\n",
    "\n",
    "from roboflow import Roboflow\n",
    "import os\n",
    "\n",
    "rf = Roboflow(api_key=\"UmrhwHmxixp7hrYrUSIB\")\n",
    "project = rf.workspace(\"agroia\").project(\"dataset-v1-s3fwi\")\n",
    "version = project.version(8)\n",
    "dataset = version.download(\"sam2\")\n",
    "\n",
    "# rename dataset.location to \"data\"\n",
    "os.rename(dataset.location, \"./data\")"
   ]
  },
  {
   "cell_type": "code",
   "execution_count": null,
   "metadata": {},
   "outputs": [],
   "source": [
    "!git clone https://github.com/facebookresearch/sam2.git"
   ]
  },
  {
   "cell_type": "code",
   "execution_count": null,
   "metadata": {},
   "outputs": [],
   "source": [
    "!wget -O ./sam2/sam2/configs/train.yaml 'https://drive.usercontent.google.com/download?id=11cmbxPPsYqFyWq87tmLgBAQ6OZgEhPG3'"
   ]
  },
  {
   "cell_type": "code",
   "execution_count": null,
   "metadata": {},
   "outputs": [],
   "source": [
    "%cd ./sam2/"
   ]
  },
  {
   "cell_type": "code",
   "execution_count": null,
   "metadata": {},
   "outputs": [],
   "source": [
    "!pip install -e .[dev] -q"
   ]
  },
  {
   "cell_type": "code",
   "execution_count": null,
   "metadata": {},
   "outputs": [],
   "source": [
    "!cd ./checkpoints && ./download_ckpts.sh"
   ]
  },
  {
   "cell_type": "markdown",
   "metadata": {},
   "source": [
    "## Modify Dataset File Names"
   ]
  },
  {
   "cell_type": "code",
   "execution_count": null,
   "metadata": {},
   "outputs": [],
   "source": [
    "# Script to rename roboflow filenames to something SAM 2.1 compatible.\n",
    "# Maybe it is possible to remove this step tweaking sam2/sam2/configs/train.yaml.\n",
    "import os\n",
    "import re\n",
    "\n",
    "FOLDER = \"./data/train\"\n",
    "\n",
    "for filename in os.listdir(FOLDER):\n",
    "    # Replace all except last dot with underscore\n",
    "    new_filename = filename.replace(\".\", \"_\", filename.count(\".\") - 1)\n",
    "    if not re.search(r\"_\\d+\\.\\w+$\", new_filename):\n",
    "        # Add an int to the end of base name\n",
    "        new_filename = new_filename.replace(\".\", \"_1.\")\n",
    "    os.rename(os.path.join(FOLDER, filename), os.path.join(FOLDER, new_filename))"
   ]
  },
  {
   "cell_type": "markdown",
   "metadata": {},
   "source": [
    "# Train"
   ]
  },
  {
   "cell_type": "markdown",
   "metadata": {},
   "source": [
    "%ls\n",
    "%cd sam2/\n",
    "%ls"
   ]
  },
  {
   "cell_type": "code",
   "execution_count": null,
   "metadata": {},
   "outputs": [],
   "source": [
    "!python training/train.py -c 'configs/train.yaml' --use-cluster 0 --num-gpus 1"
   ]
  },
  {
   "cell_type": "code",
   "execution_count": null,
   "metadata": {},
   "outputs": [],
   "source": [
    "%load_ext tensorboard\n",
    "%tensorboard --bind_all --logdir ./sam2_logs/"
   ]
  },
  {
   "cell_type": "markdown",
   "metadata": {},
   "source": [
    "# Load SAM"
   ]
  },
  {
   "cell_type": "code",
   "execution_count": null,
   "metadata": {},
   "outputs": [],
   "source": [
    "!pip install supervision -q"
   ]
  },
  {
   "cell_type": "code",
   "execution_count": null,
   "metadata": {},
   "outputs": [],
   "source": [
    "import torch\n",
    "from sam2.build_sam import build_sam2\n",
    "from sam2.automatic_mask_generator import SAM2AutomaticMaskGenerator\n",
    "import supervision as sv\n",
    "import os\n",
    "import random\n",
    "from PIL import Image\n",
    "import numpy as np\n",
    "\n",
    "# use bfloat16 for the entire notebook\n",
    "# from Meta notebook\n",
    "torch.autocast(\"cuda\", dtype=torch.bfloat16).__enter__()\n",
    "if torch.cuda.get_device_properties(0).major >= 8:\n",
    "    torch.backends.cuda.matmul.allow_tf32 = True\n",
    "    torch.backends.cudnn.allow_tf32 = True\n",
    "\n",
    "checkpoint = \"/content/sam2/sam2_logs/configs/train.yaml/checkpoints/checkpoint.pt\"\n",
    "model_cfg = \"configs/sam2.1/sam2.1_hiera_b+.yaml\"\n",
    "sam2 = build_sam2(model_cfg, checkpoint, device=\"cuda\")\n",
    "mask_generator = SAM2AutomaticMaskGenerator(sam2)\n",
    "\n",
    "checkpoint_base = \"/content/sam2/checkpoints/sam2.1_hiera_base_plus.pt\"\n",
    "model_cfg_base = \"configs/sam2.1/sam2.1_hiera_b+.yaml\"\n",
    "sam2_base = build_sam2(model_cfg_base, checkpoint_base, device=\"cuda\")\n",
    "mask_generator_base = SAM2AutomaticMaskGenerator(sam2_base)"
   ]
  },
  {
   "cell_type": "code",
   "execution_count": null,
   "metadata": {},
   "outputs": [],
   "source": [
    "validation_set = os.listdir(\"/content/data/valid\")\n",
    "\n",
    "# choose random with .json extension\n",
    "image = random.choice([img for img in validation_set if img.endswith(\".jpg\")])\n",
    "image = os.path.join(\"/content/data/valid\", image)\n",
    "opened_image = np.array(Image.open(image).convert(\"RGB\"))\n",
    "result = mask_generator.generate(opened_image)\n",
    "\n",
    "detections = sv.Detections.from_sam(sam_result=result)\n",
    "\n",
    "mask_annotator = sv.MaskAnnotator(color_lookup = sv.ColorLookup.INDEX)\n",
    "annotated_image = opened_image.copy()\n",
    "annotated_image = mask_annotator.annotate(annotated_image, detections=detections)\n",
    "\n",
    "base_annotator = sv.MaskAnnotator(color_lookup = sv.ColorLookup.INDEX)\n",
    "\n",
    "base_result = mask_generator_base.generate(opened_image)\n",
    "base_detections = sv.Detections.from_sam(sam_result=base_result)\n",
    "base_annotated_image = opened_image.copy()\n",
    "base_annotated_image = base_annotator.annotate(base_annotated_image, detections=base_detections)\n",
    "\n",
    "sv.plot_images_grid(images=[annotated_image, base_annotated_image], titles=[\"Fine-Tuned SAM-2.1\", \"Base SAM-2.1\"], grid_size=(1, 2))"
   ]
  }
 ],
 "metadata": {
  "language_info": {
   "name": "python"
  }
 },
 "nbformat": 4,
 "nbformat_minor": 2
}
